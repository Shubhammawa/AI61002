{
 "cells": [
  {
   "cell_type": "markdown",
   "metadata": {},
   "source": [
    "<h4 align=\"right\">by <a href=\"http://cse.iitkgp.ac.in/~adas/\">Abir Das</a> with help of <br> Ram Rakesh and Ankit Singh<br> </h4>"
   ]
  },
  {
   "cell_type": "markdown",
   "metadata": {},
   "source": [
    "### Write the following details here\n",
    "** Name: ** `<SHUBHAM MAWA>`<br/>\n",
    "** Roll Number: ** `<16IM10033>`<br/>\n",
    "** Department: ** `<INDUSTRIAL AND SYSTEMS ENGINEERING>`<br/>\n",
    "** Email: ** `<shubhammawa1998@iitkgp.ac.in>`"
   ]
  },
  {
   "cell_type": "markdown",
   "metadata": {},
   "source": [
    "# Problem Set 1 "
   ]
  },
  {
   "cell_type": "markdown",
   "metadata": {},
   "source": [
    "## Preamble\n",
    "\n",
    "To run and solve this assignment, one must have a working IPython Notebook installation. The easiest way to set it up for both Windows and Linux is to install [Anaconda](https://www.continuum.io/downloads). Then save this file ([`assignment_01.ipynb`]()) to your computer, run Anaconda and choose this file in Anaconda's file explorer. Use `Python 3` version. Below statements assume that you have already followed these instructions. If you are new to Python or its scientific library, Numpy, there are some nice tutorials [here](https://www.learnpython.org/) and [here](http://www.scipy-lectures.org/)."
   ]
  },
  {
   "cell_type": "markdown",
   "metadata": {},
   "source": [
    "### Problem: You will implement the perceptron algorithm in this problem\n",
    "We marked places where you are expected to add/change your own code with **`##### write your code below #####`** comment."
   ]
  },
  {
   "cell_type": "code",
   "execution_count": 1,
   "metadata": {},
   "outputs": [],
   "source": [
    "# Import the libraries\n",
    "%matplotlib inline\n",
    "import matplotlib.pyplot as plt\n",
    "import numpy as np"
   ]
  },
  {
   "cell_type": "code",
   "execution_count": 2,
   "metadata": {},
   "outputs": [],
   "source": [
    "# Read training data from data_prob_01.txt and store in a numpy array called 'x'.\n",
    "# As 40 data points are present, 'x' will be a 40x2 array where each row is one data point.\n",
    "# Store the labels in 'y'. It will be 40 length numpy array.\n",
    "# Each data is two dimensional and labels are +1 for the positive class while -1\n",
    "# for the negative class\n",
    "fileName=\"./data/data_prob_01.txt\"\n",
    "with open(fileName) as file:\n",
    "    lines =  [line.split() for line in file ]\n",
    "data = np.array(lines,dtype='float32')\n",
    "X = data[:,:2]\n",
    "y = data[:,-1]"
   ]
  },
  {
   "cell_type": "code",
   "execution_count": 3,
   "metadata": {},
   "outputs": [],
   "source": [
    "# Initialize weight\n",
    "w = np.array([0.0, 0.0]) #\n",
    "# while no examples are misclassified run the perceptron algorithm (refer to the slides for the algorithm)\n",
    "########################## write your code below ##############################################   \n",
    "g = np.zeros((40))\n",
    "#b = np.random.uniform(0,1,size=(40))\n",
    "a = np.matmul(X,w) #+ b\n",
    "# for i in range(0,a.shape[0]):\n",
    "#     if(a[i]>=0):\n",
    "#         g[i] = 1\n",
    "#     else:\n",
    "#         g[i] = -1\n",
    "        \n",
    "error = 1   \n",
    "\n",
    "while(error!=0):  \n",
    "    flag = 0\n",
    "   \n",
    "    for i in range(0,y.shape[0]):\n",
    "        \n",
    "        if(g[i]!=y[i]):\n",
    "            flag = 1\n",
    "            w = w + y[i]*X[i]\n",
    "            #print(w)\n",
    "            a[i] = np.matmul(w,(X[i]).T)\n",
    "            if(a[i]>=0):\n",
    "                g[i]=1\n",
    "            else:\n",
    "                g[i]=-1\n",
    "    if(flag!=1):\n",
    "        error = 0\n",
    "# print(y==g)\n",
    "# print(w)\n",
    "# Finally w contains the trained weights\n",
    "###############################################################################################"
   ]
  },
  {
   "cell_type": "markdown",
   "metadata": {},
   "source": [
    "### Scatter plot the data points and plot the straight line given by the trained weights w"
   ]
  },
  {
   "cell_type": "code",
   "execution_count": 4,
   "metadata": {},
   "outputs": [
    {
     "data": {
      "image/png": "[encoded data removed]",
      "text/plain": [
       "<Figure size 720x720 with 1 Axes>"
      ]
     },
     "metadata": {
      "needs_background": "light"
     },
     "output_type": "display_data"
    }
   ],
   "source": [
    "epsilon=1e-18\n",
    "indexes_with_class1 = y==1\n",
    "plt.figure(figsize=(10,10))\n",
    "plt.scatter(X[indexes_with_class1][:,0],X[indexes_with_class1][:,1], color='r', marker='P')\n",
    "plt.scatter(X[~indexes_with_class1][:,0],X[~indexes_with_class1][:,1], color='g', marker='o')\n",
    "plt.grid()\n",
    "\n",
    "# weightplot\n",
    "plt.xlim(-12,12)\n",
    "plt.ylim(-12,12)\n",
    "slope = (-w[0])/(w[1]+epsilon) # to ensure no division by zero\n",
    "xx = np.linspace(-15, 15)\n",
    "yy = slope * xx\n",
    "plt.plot(xx,yy,color='k', linestyle='-', linewidth=2)\n",
    "plt.show()"
   ]
  },
  {
   "cell_type": "code",
   "execution_count": null,
   "metadata": {},
   "outputs": [],
   "source": []
  }
 ],
 "metadata": {
  "kernelspec": {
   "display_name": "Python 3",
   "language": "python",
   "name": "python3"
  },
  "language_info": {
   "codemirror_mode": {
    "name": "ipython",
    "version": 3
   },
   "file_extension": ".py",
   "mimetype": "text/x-python",
   "name": "python",
   "nbconvert_exporter": "python",
   "pygments_lexer": "ipython3",
   "version": "3.5.2"
  }
 },
 "nbformat": 4,
 "nbformat_minor": 2
}
